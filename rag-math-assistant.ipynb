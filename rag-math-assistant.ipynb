{
 "nbformat": 4,
 "nbformat_minor": 0,
 "metadata": {
  "colab": {
   "provenance": [],
   "gpuType": "T4"
  },
  "kernelspec": {
   "name": "python3",
   "display_name": "Python 3"
  },
  "language_info": {
   "name": "python"
  },
  "accelerator": "GPU"
 },
 "cells": [
  {
   "cell_type": "code",
   "source": [
    "!pip install -U langchain-community pypdf faiss-cpu bitsandbytes"
   ],
   "metadata": {
    "colab": {
     "base_uri": "https://localhost:8080/"
    },
    "collapsed": true,
    "id": "cyCgdvWdKF4K",
    "outputId": "9968b127-cad4-4c9a-9943-a068ad6fc088"
   },
   "execution_count": 1,
   "outputs": [
    {
     "output_type": "stream",
     "name": "stdout",
     "text": [
      "Requirement already satisfied: langchain-community in /usr/local/lib/python3.11/dist-packages (0.3.27)\n",
      "Requirement already satisfied: pypdf in /usr/local/lib/python3.11/dist-packages (5.9.0)\n",
      "Requirement already satisfied: faiss-cpu in /usr/local/lib/python3.11/dist-packages (1.11.0.post1)\n",
      "Requirement already satisfied: bitsandbytes in /usr/local/lib/python3.11/dist-packages (0.46.1)\n",
      "Requirement already satisfied: langchain-core<1.0.0,>=0.3.66 in /usr/local/lib/python3.11/dist-packages (from langchain-community) (0.3.72)\n",
      "Requirement already satisfied: langchain<1.0.0,>=0.3.26 in /usr/local/lib/python3.11/dist-packages (from langchain-community) (0.3.27)\n",
      "Requirement already satisfied: SQLAlchemy<3,>=1.4 in /usr/local/lib/python3.11/dist-packages (from langchain-community) (2.0.42)\n",
      "Requirement already satisfied: requests<3,>=2 in /usr/local/lib/python3.11/dist-packages (from langchain-community) (2.32.3)\n",
      "Requirement already satisfied: PyYAML>=5.3 in /usr/local/lib/python3.11/dist-packages (from langchain-community) (6.0.2)\n",
      "Requirement already satisfied: aiohttp<4.0.0,>=3.8.3 in /usr/local/lib/python3.11/dist-packages (from langchain-community) (3.12.15)\n",
      "Requirement already satisfied: tenacity!=8.4.0,<10,>=8.1.0 in /usr/local/lib/python3.11/dist-packages (from langchain-community) (8.5.0)\n",
      "Requirement already satisfied: dataclasses-json<0.7,>=0.5.7 in /usr/local/lib/python3.11/dist-packages (from langchain-community) (0.6.7)\n",
      "Requirement already satisfied: pydantic-settings<3.0.0,>=2.4.0 in /usr/local/lib/python3.11/dist-packages (from langchain-community) (2.10.1)\n",
      "Requirement already satisfied: langsmith>=0.1.125 in /usr/local/lib/python3.11/dist-packages (from langchain-community) (0.4.10)\n",
      "Requirement already satisfied: httpx-sse<1.0.0,>=0.4.0 in /usr/local/lib/python3.11/dist-packages (from langchain-community) (0.4.1)\n",
      "Requirement already satisfied: numpy>=1.26.2 in /usr/local/lib/python3.11/dist-packages (from langchain-community) (2.0.2)\n",
      "Requirement already satisfied: packaging in /usr/local/lib/python3.11/dist-packages (from faiss-cpu) (25.0)\n",
      "Requirement already satisfied: torch<3,>=2.2 in /usr/local/lib/python3.11/dist-packages (from bitsandbytes) (2.6.0+cu124)\n",
      "Requirement already satisfied: aiohappyeyeballs>=2.5.0 in /usr/local/lib/python3.11/dist-packages (from aiohttp<4.0.0,>=3.8.3->langchain-community) (2.6.1)\n",
      "Requirement already satisfied: aiosignal>=1.4.0 in /usr/local/lib/python3.11/dist-packages (from aiohttp<4.0.0,>=3.8.3->langchain-community) (1.4.0)\n",
      "Requirement already satisfied: attrs>=17.3.0 in /usr/local/lib/python3.11/dist-packages (from aiohttp<4.0.0,>=3.8.3->langchain-community) (25.3.0)\n",
      "Requirement already satisfied: frozenlist>=1.1.1 in /usr/local/lib/python3.11/dist-packages (from aiohttp<4.0.0,>=3.8.3->langchain-community) (1.7.0)\n",
      "Requirement already satisfied: multidict<7.0,>=4.5 in /usr/local/lib/python3.11/dist-packages (from aiohttp<4.0.0,>=3.8.3->langchain-community) (6.6.3)\n",
      "Requirement already satisfied: propcache>=0.2.0 in /usr/local/lib/python3.11/dist-packages (from aiohttp<4.0.0,>=3.8.3->langchain-community) (0.3.2)\n",
      "Requirement already satisfied: yarl<2.0,>=1.17.0 in /usr/local/lib/python3.11/dist-packages (from aiohttp<4.0.0,>=3.8.3->langchain-community) (1.20.1)\n",
      "Requirement already satisfied: marshmallow<4.0.0,>=3.18.0 in /usr/local/lib/python3.11/dist-packages (from dataclasses-json<0.7,>=0.5.7->langchain-community) (3.26.1)\n",
      "Requirement already satisfied: typing-inspect<1,>=0.4.0 in /usr/local/lib/python3.11/dist-packages (from dataclasses-json<0.7,>=0.5.7->langchain-community) (0.9.0)\n",
      "Requirement already satisfied: langchain-text-splitters<1.0.0,>=0.3.9 in /usr/local/lib/python3.11/dist-packages (from langchain<1.0.0,>=0.3.26->langchain-community) (0.3.9)\n",
      "Requirement already satisfied: pydantic<3.0.0,>=2.7.4 in /usr/local/lib/python3.11/dist-packages (from langchain<1.0.0,>=0.3.26->langchain-community) (2.11.7)\n",
      "Requirement already satisfied: jsonpatch<2.0,>=1.33 in /usr/local/lib/python3.11/dist-packages (from langchain-core<1.0.0,>=0.3.66->langchain-community) (1.33)\n",
      "Requirement already satisfied: typing-extensions>=4.7 in /usr/local/lib/python3.11/dist-packages (from langchain-core<1.0.0,>=0.3.66->langchain-community) (4.14.1)\n",
      "Requirement already satisfied: httpx<1,>=0.23.0 in /usr/local/lib/python3.11/dist-packages (from langsmith>=0.1.125->langchain-community) (0.28.1)\n",
      "Requirement already satisfied: orjson>=3.9.14 in /usr/local/lib/python3.11/dist-packages (from langsmith>=0.1.125->langchain-community) (3.11.1)\n",
      "Requirement already satisfied: requests-toolbelt>=1.0.0 in /usr/local/lib/python3.11/dist-packages (from langsmith>=0.1.125->langchain-community) (1.0.0)\n",
      "Requirement already satisfied: zstandard>=0.23.0 in /usr/local/lib/python3.11/dist-packages (from langsmith>=0.1.125->langchain-community) (0.23.0)\n",
      "Requirement already satisfied: python-dotenv>=0.21.0 in /usr/local/lib/python3.11/dist-packages (from pydantic-settings<3.0.0,>=2.4.0->langchain-community) (1.1.1)\n",
      "Requirement already satisfied: typing-inspection>=0.4.0 in /usr/local/lib/python3.11/dist-packages (from pydantic-settings<3.0.0,>=2.4.0->langchain-community) (0.4.1)\n",
      "Requirement already satisfied: charset-normalizer<4,>=2 in /usr/local/lib/python3.11/dist-packages (from requests<3,>=2->langchain-community) (3.4.2)\n",
      "Requirement already satisfied: idna<4,>=2.5 in /usr/local/lib/python3.11/dist-packages (from requests<3,>=2->langchain-community) (3.10)\n",
      "Requirement already satisfied: urllib3<3,>=1.21.1 in /usr/local/lib/python3.11/dist-packages (from requests<3,>=2->langchain-community) (2.5.0)\n",
      "Requirement already satisfied: certifi>=2017.4.17 in /usr/local/lib/python3.11/dist-packages (from requests<3,>=2->langchain-community) (2025.8.3)\n",
      "Requirement already satisfied: greenlet>=1 in /usr/local/lib/python3.11/dist-packages (from SQLAlchemy<3,>=1.4->langchain-community) (3.2.3)\n",
      "Requirement already satisfied: filelock in /usr/local/lib/python3.11/dist-packages (from torch<3,>=2.2->bitsandbytes) (3.18.0)\n",
      "Requirement already satisfied: networkx in /usr/local/lib/python3.11/dist-packages (from torch<3,>=2.2->bitsandbytes) (3.5)\n",
      "Requirement already satisfied: jinja2 in /usr/local/lib/python3.11/dist-packages (from torch<3,>=2.2->bitsandbytes) (3.1.6)\n",
      "Requirement already satisfied: fsspec in /usr/local/lib/python3.11/dist-packages (from torch<3,>=2.2->bitsandbytes) (2025.3.0)\n",
      "Requirement already satisfied: nvidia-cuda-nvrtc-cu12==12.4.127 in /usr/local/lib/python3.11/dist-packages (from torch<3,>=2.2->bitsandbytes) (12.4.127)\n",
      "Requirement already satisfied: nvidia-cuda-runtime-cu12==12.4.127 in /usr/local/lib/python3.11/dist-packages (from torch<3,>=2.2->bitsandbytes) (12.4.127)\n",
      "Requirement already satisfied: nvidia-cuda-cupti-cu12==12.4.127 in /usr/local/lib/python3.11/dist-packages (from torch<3,>=2.2->bitsandbytes) (12.4.127)\n",
      "Requirement already satisfied: nvidia-cudnn-cu12==9.1.0.70 in /usr/local/lib/python3.11/dist-packages (from torch<3,>=2.2->bitsandbytes) (9.1.0.70)\n",
      "Requirement already satisfied: nvidia-cublas-cu12==12.4.5.8 in /usr/local/lib/python3.11/dist-packages (from torch<3,>=2.2->bitsandbytes) (12.4.5.8)\n",
      "Requirement already satisfied: nvidia-cufft-cu12==11.2.1.3 in /usr/local/lib/python3.11/dist-packages (from torch<3,>=2.2->bitsandbytes) (11.2.1.3)\n",
      "Requirement already satisfied: nvidia-curand-cu12==10.3.5.147 in /usr/local/lib/python3.11/dist-packages (from torch<3,>=2.2->bitsandbytes) (10.3.5.147)\n",
      "Requirement already satisfied: nvidia-cusolver-cu12==11.6.1.9 in /usr/local/lib/python3.11/dist-packages (from torch<3,>=2.2->bitsandbytes) (11.6.1.9)\n",
      "Requirement already satisfied: nvidia-cusparse-cu12==12.3.1.170 in /usr/local/lib/python3.11/dist-packages (from torch<3,>=2.2->bitsandbytes) (12.3.1.170)\n",
      "Requirement already satisfied: nvidia-cusparselt-cu12==0.6.2 in /usr/local/lib/python3.11/dist-packages (from torch<3,>=2.2->bitsandbytes) (0.6.2)\n",
      "Requirement already satisfied: nvidia-nccl-cu12==2.21.5 in /usr/local/lib/python3.11/dist-packages (from torch<3,>=2.2->bitsandbytes) (2.21.5)\n",
      "Requirement already satisfied: nvidia-nvtx-cu12==12.4.127 in /usr/local/lib/python3.11/dist-packages (from torch<3,>=2.2->bitsandbytes) (12.4.127)\n",
      "Requirement already satisfied: nvidia-nvjitlink-cu12==12.4.127 in /usr/local/lib/python3.11/dist-packages (from torch<3,>=2.2->bitsandbytes) (12.4.127)\n",
      "Requirement already satisfied: triton==3.2.0 in /usr/local/lib/python3.11/dist-packages (from torch<3,>=2.2->bitsandbytes) (3.2.0)\n",
      "Requirement already satisfied: sympy==1.13.1 in /usr/local/lib/python3.11/dist-packages (from torch<3,>=2.2->bitsandbytes) (1.13.1)\n",
      "Requirement already satisfied: mpmath<1.4,>=1.1.0 in /usr/local/lib/python3.11/dist-packages (from sympy==1.13.1->torch<3,>=2.2->bitsandbytes) (1.3.0)\n",
      "Requirement already satisfied: anyio in /usr/local/lib/python3.11/dist-packages (from httpx<1,>=0.23.0->langsmith>=0.1.125->langchain-community) (4.10.0)\n",
      "Requirement already satisfied: httpcore==1.* in /usr/local/lib/python3.11/dist-packages (from httpx<1,>=0.23.0->langsmith>=0.1.125->langchain-community) (1.0.9)\n",
      "Requirement already satisfied: h11>=0.16 in /usr/local/lib/python3.11/dist-packages (from httpcore==1.*->httpx<1,>=0.23.0->langsmith>=0.1.125->langchain-community) (0.16.0)\n",
      "Requirement already satisfied: jsonpointer>=1.9 in /usr/local/lib/python3.11/dist-packages (from jsonpatch<2.0,>=1.33->langchain-core<1.0.0,>=0.3.66->langchain-community) (3.0.0)\n",
      "Requirement already satisfied: annotated-types>=0.6.0 in /usr/local/lib/python3.11/dist-packages (from pydantic<3.0.0,>=2.7.4->langchain<1.0.0,>=0.3.26->langchain-community) (0.7.0)\n",
      "Requirement already satisfied: pydantic-core==2.33.2 in /usr/local/lib/python3.11/dist-packages (from pydantic<3.0.0,>=2.7.4->langchain<1.0.0,>=0.3.26->langchain-community) (2.33.2)\n",
      "Requirement already satisfied: mypy-extensions>=0.3.0 in /usr/local/lib/python3.11/dist-packages (from typing-inspect<1,>=0.4.0->dataclasses-json<0.7,>=0.5.7->langchain-community) (1.1.0)\n",
      "Requirement already satisfied: MarkupSafe>=2.0 in /usr/local/lib/python3.11/dist-packages (from jinja2->torch<3,>=2.2->bitsandbytes) (3.0.2)\n",
      "Requirement already satisfied: sniffio>=1.1 in /usr/local/lib/python3.11/dist-packages (from anyio->httpx<1,>=0.23.0->langsmith>=0.1.125->langchain-community) (1.3.1)\n"
     ]
    }
   ]
  },
  {
   "cell_type": "code",
   "execution_count": 2,
   "metadata": {
    "id": "aIohO72JIXNZ"
   },
   "outputs": [],
   "source": [
    "from langchain.document_loaders import PyPDFLoader\n",
    "from langchain.text_splitter import RecursiveCharacterTextSplitter\n",
    "from langchain.vectorstores import FAISS\n",
    "from langchain.llms import HuggingFacePipeline\n",
    "from langchain.embeddings import HuggingFaceEmbeddings\n",
    "from langchain.chains import RetrievalQA\n",
    "from langchain.llms import HuggingFacePipeline\n",
    "from transformers import pipeline\n",
    "from langchain.chains.llm import LLMChain\n",
    "from langchain.prompts import PromptTemplate\n",
    "import os\n",
    "from transformers import AutoModelForCausalLM, AutoTokenizer\n",
    "import torch"
   ]
  },
  {
   "cell_type": "code",
   "source": [
    "model_id = \"microsoft/phi-2\"\n",
    "tokenizer = AutoTokenizer.from_pretrained(model_id)\n",
    "model = AutoModelForCausalLM.from_pretrained(model_id, device_map=\"auto\")\n",
    "\n"
   ],
   "metadata": {
    "colab": {
     "base_uri": "https://localhost:8080/",
     "height": 433,
     "referenced_widgets": [
      "10187e24da074c019acacd7cfd73f4b1",
      "d6b5cc02d3724392b8db8da62ce9911f",
      "5fedc91993e04bfc8e7de3edac66e50e",
      "d5817d5e54f44e7892ed34dc7a28e69e",
      "d0d8e00c9ff749c9847c79ad2d45f2c8",
      "760a3279dd044f82bf7093040b0e0a34",
      "c975c6daaad4429e8151b90352f8be0d",
      "93dc39085c1d46018cd1533e5bd70c3b",
      "8afb1ccba30147498ccdd8688eabaee0",
      "fa1b61a7d6d3478fb72a0aae3cf94851",
      "861633930cb24827a6b33f634f9c584e",
      "873f440cbd884c66acaa9b6e7b104500",
      "ae35fca77e324f6da9a8397add095a80",
      "56128687d1424b9abc0cbc70f3e84885",
      "9535fd4495b14a30bc4e6db4fcb13ffd",
      "affc543f0f3d48388272baaabf8c7805",
      "c4ff06ca197941c68dceaef1ffae16ef",
      "b320e900188b4c88b4515044d3924bac",
      "caa53563f91d4e22b3db77e8e2095636",
      "31ea75e55d934e4b94b7de18c0d7cc89",
      "01fdf2494d56481cb44c426f2a77f9eb",
      "57fecd099fc04d37bc73b30ede516642",
      "d7045284f1a54d52bfa6be15a0864c8a",
      "bbbc4509c108484281bb76e14499f8a2",
      "025bbbb10c804f8dbb8be946eb62bcdf",
      "52cc41944d314a78b8c30aea7597f674",
      "322cf32c4b874b66b194fd9e9645bc65",
      "17533a9393d541dca0d4cfac4e9c1072",
      "f86fd296cea64762bc81484b925d3692",
      "996bd340d4374aa38656675e113fe251",
      "251bada3e9814a35a9263f4f4853acec",
      "29e75a020e774ef89fb7123653e0927c",
      "272f01f5a15a43dbbd595edc27c3a460",
      "119fc888e0344c55bbc4f49f59dc823d",
      "dfa49d2be8164147a1c960c77198ee5c",
      "7fb5fa73b9624d8cb5cc8a0ab744d72f",
      "a6704fec1a97437daf19ede580d57071",
      "d33e3d572fea446cb12202f3d720ea4a",
      "01278d7628db482e82eae9891202f2af",
      "f0165e03cb8d4027ab38aad7da661440",
      "312020678e3b4ac5a4e0542286918413",
      "4889d2dfbc5646c292b1f62db83e8b33",
      "e5bd451e1bc64ec8b18ed492f0639cf1",
      "39a38588e3c94cda8f91be732be1c7af",
      "0ae3ae322c734b9bb59df8583c800bc5",
      "b1034df41dca4dc1a89cb2ed1698b80c",
      "c9388f34e87e46bf9da78a40db8dc9e8",
      "2d9e2e20381d48ad8ba203926cd201a5",
      "480c9aa88a7c42d7a53215624de8722f",
      "012b51ed09264e5b8f740f8f73f69ce2",
      "b62d5de5ff5c4f0c90d8b4fb8ff81532",
      "4a9a9958934847c68873c15aaf50bd29",
      "79c6fee8d5454640810f74a7a98e3f8a",
      "ac828f9a14304a989f4cf70a1698c782",
      "f41acb5d71d44f75be3ef9fc88a43c89",
      "87860fe218e748d6a4fad1ccbe5d140e",
      "29c8790b79a94a6981960d861befb588",
      "b4a5d95a8109448881f34441ddaedfc6",
      "3fb7c529b2cf496f8ad28b30ac3ca964",
      "cd5686096f07459eaeafa71a8932d162",
      "6c6c0af6ae1c4c8ead3bc66c22b3ccd9",
      "7e802e0b7d1d439c926628acf07634a1",
      "9ea21de79d3a4183a02680a1ea39d64f",
      "98497ac742584395a72936434986f8a7",
      "040203ed55b24acab7f510c460e6c0be",
      "c03421120b1c49a4979a22ba122c6e06",
      "dbad6dded6364b21a80c3ecebbeb8d7a",
      "03aca26c583a46faaa6149a604706d1a",
      "363e4aed23644575ae7f3d4af591bb42",
      "40ebfad940614e53bcca725e84d94eaa",
      "596713fb4d614371ae25319a2cbbb3c0",
      "f8ef5e2197344889b051f3d387920caf",
      "17dddfe87dcc4eb483ccdbccf556a250",
      "fc15f5b5edea4453843750509c97964b",
      "3e4b58addb9945e4a7d21399d0ca0074",
      "53f8c9627c9947e5bbbf62751c64e133",
      "1aa4e92768534044bf9fc4685cc9155f",
      "518116c66ab942858960c9e8e9b7dea1",
      "9c86eb4d9a634fe3b734a434938228d7",
      "92e7485d7969436da9bebd0c47d148ab",
      "ff22fc336b25456c9e5d011246dc0a0c",
      "8a0b3aa9331c48c4a355d92a8587e9a1",
      "99370d11f8da4dc88a5ad439a88bdda2",
      "b089b25b9388408994b6e32ef7a7321a",
      "0c08d27b273e4d28bece46f1cdbe615b",
      "d5f0dca728fc4f029c34a4e6f3d9edfe",
      "26168bc60b28408abcbda6f072180be7",
      "0316770f1a354226a47b087fef44d293",
      "e6582157536042a7ac76e22f2b91a51c",
      "31f8ae3b0da3447c8f3d0aa7b7bb8482",
      "12fb64de1c814236ad0626db5268a763",
      "dfce3a0aa9914916b390e253b6f812c6",
      "15e6a663b1284cc19bf2cbfb0b940486",
      "916ceb7739ff4de084ab6a212a9d2cf3",
      "93c098bd504f4459a5992337c21fca12",
      "8e6bdcb8aba4498e8fc3bf679aab081e",
      "ac6dbd9546874ad283862a04dd3e570f",
      "2435461c130644b3b8cd5ff3ff8c9f54",
      "90f2a3539080452b8a389004e8601381",
      "0021202187a34ad4b67d3601d95a620e",
      "e1c7a0d991dc4690be10c555da7891fc",
      "3eafeb439ca4400eb595e5c888d3efd6",
      "ce49b3e4209d43eea858e3de175a9bf1",
      "dec3ff9cebd1485fa7d4250ef5467989",
      "fe8e2e34d0c04eb0896f4113fc87d9e5",
      "305c293610e74e4a81f822f33b29897e",
      "1ccd94015518443e871a98b3669ab90d",
      "fd440a1a0a6c44b9a338a97be49e84b0",
      "6c8e5a9dbbf64a66894ec24fcd8f9fea",
      "caccbc3448464b56aeee65b40112140c",
      "6549805a710e47bd8eee3eb6ebcd80a6",
      "b0211895d3d647d385d743f228f46bbd",
      "d653eca76373402d812594301c02671b",
      "6aedaced96194e618d119615c2e36bb7",
      "5ce0e4b5384b4c3b8e93bb6f272a039d",
      "8bc34d2ecb0e4c5ab50b375cac92fcc9",
      "5e7c4588996e46c1a2062402ddef7921",
      "c1a9a6dcdf2742e397e4f0797b870069",
      "d56f5369d1bf46639a7d9db09ae2d375",
      "1dc4e226b579446dbfeed50e2b267ea1",
      "5e8bfbcd17ed4ad5be36515a25bcb69c",
      "637c5d82ffbc4a599612f8999124adf1",
      "23f5b5856cfb4041955edcfa87b4a3e7",
      "69f6819e352c4120bb4d0a3d887d85fa",
      "a350212bd8b649f29333fd2694aef49f",
      "0dc64b2b190249d1bae68249ff2d3095",
      "75502aa6a52a4febbbd7bc89752445ab",
      "c02bf3db485242dbaa6844891c9c2cd6",
      "5d88e3a9445b4f48b9685fdbeb08c384",
      "c665fc93de264351a75638cdfa45db30",
      "03783e1505ef442ebf0ba30f77b26c93",
      "e1d640517cc34cea80ae1aaee2eb713e",
      "399c47797d5a4d12ae0753b283e33fc4",
      "8936971b6b0543f19102df95e911dad5",
      "2d557aa778d64667a5fa7d3cb3f93023",
      "b6bd99f7616a43edba582b0afee8bc32",
      "d59108a17cd149738ba23881a3d488a1",
      "8ad6cae1b7a04e5a975cf816957e5668",
      "f63b091d351f44139a3616d278b94ef3",
      "e1b063e134f248c9af809ddb45b890e6",
      "ab6dbeead5b84287bf14f22c80f889df",
      "1d1b4bd463554d74a48a03bd081a288d",
      "7462b393b97e45f5ba211aba73dc8bfe"
     ]
    },
    "id": "ESSDrP5odGXd",
    "outputId": "2c1cca35-51dc-4330-8e81-96d5c8a7dbf9"
   },
   "execution_count": 3,
   "outputs": [
    {
     "output_type": "display_data",
     "data": {
      "text/plain": [
       "tokenizer_config.json: 0.00B [00:00, ?B/s]"
      ],
      "application/vnd.jupyter.widget-view+json": {
       "version_major": 2,
       "version_minor": 0,
       "model_id": "10187e24da074c019acacd7cfd73f4b1"
      }
     },
     "metadata": {}
    },
    {
     "output_type": "display_data",
     "data": {
      "text/plain": [
       "vocab.json: 0.00B [00:00, ?B/s]"
      ],
      "application/vnd.jupyter.widget-view+json": {
       "version_major": 2,
       "version_minor": 0,
       "model_id": "873f440cbd884c66acaa9b6e7b104500"
      }
     },
     "metadata": {}
    },
    {
     "output_type": "display_data",
     "data": {
      "text/plain": [
       "merges.txt: 0.00B [00:00, ?B/s]"
      ],
      "application/vnd.jupyter.widget-view+json": {
       "version_major": 2,
       "version_minor": 0,
       "model_id": "d7045284f1a54d52bfa6be15a0864c8a"
      }
     },
     "metadata": {}
    },
    {
     "output_type": "display_data",
     "data": {
      "text/plain": [
       "tokenizer.json: 0.00B [00:00, ?B/s]"
      ],
      "application/vnd.jupyter.widget-view+json": {
       "version_major": 2,
       "version_minor": 0,
       "model_id": "119fc888e0344c55bbc4f49f59dc823d"
      }
     },
     "metadata": {}
    },
    {
     "output_type": "display_data",
     "data": {
      "text/plain": [
       "added_tokens.json: 0.00B [00:00, ?B/s]"
      ],
      "application/vnd.jupyter.widget-view+json": {
       "version_major": 2,
       "version_minor": 0,
       "model_id": "0ae3ae322c734b9bb59df8583c800bc5"
      }
     },
     "metadata": {}
    },
    {
     "output_type": "display_data",
     "data": {
      "text/plain": [
       "special_tokens_map.json:   0%|          | 0.00/99.0 [00:00<?, ?B/s]"
      ],
      "application/vnd.jupyter.widget-view+json": {
       "version_major": 2,
       "version_minor": 0,
       "model_id": "87860fe218e748d6a4fad1ccbe5d140e"
      }
     },
     "metadata": {}
    },
    {
     "output_type": "display_data",
     "data": {
      "text/plain": [
       "config.json:   0%|          | 0.00/735 [00:00<?, ?B/s]"
      ],
      "application/vnd.jupyter.widget-view+json": {
       "version_major": 2,
       "version_minor": 0,
       "model_id": "dbad6dded6364b21a80c3ecebbeb8d7a"
      }
     },
     "metadata": {}
    },
    {
     "output_type": "display_data",
     "data": {
      "text/plain": [
       "model.safetensors.index.json: 0.00B [00:00, ?B/s]"
      ],
      "application/vnd.jupyter.widget-view+json": {
       "version_major": 2,
       "version_minor": 0,
       "model_id": "518116c66ab942858960c9e8e9b7dea1"
      }
     },
     "metadata": {}
    },
    {
     "output_type": "display_data",
     "data": {
      "text/plain": [
       "Fetching 2 files:   0%|          | 0/2 [00:00<?, ?it/s]"
      ],
      "application/vnd.jupyter.widget-view+json": {
       "version_major": 2,
       "version_minor": 0,
       "model_id": "e6582157536042a7ac76e22f2b91a51c"
      }
     },
     "metadata": {}
    },
    {
     "output_type": "display_data",
     "data": {
      "text/plain": [
       "model-00002-of-00002.safetensors:   0%|          | 0.00/564M [00:00<?, ?B/s]"
      ],
      "application/vnd.jupyter.widget-view+json": {
       "version_major": 2,
       "version_minor": 0,
       "model_id": "0021202187a34ad4b67d3601d95a620e"
      }
     },
     "metadata": {}
    },
    {
     "output_type": "display_data",
     "data": {
      "text/plain": [
       "model-00001-of-00002.safetensors:   0%|          | 0.00/5.00G [00:00<?, ?B/s]"
      ],
      "application/vnd.jupyter.widget-view+json": {
       "version_major": 2,
       "version_minor": 0,
       "model_id": "6549805a710e47bd8eee3eb6ebcd80a6"
      }
     },
     "metadata": {}
    },
    {
     "output_type": "display_data",
     "data": {
      "text/plain": [
       "Loading checkpoint shards:   0%|          | 0/2 [00:00<?, ?it/s]"
      ],
      "application/vnd.jupyter.widget-view+json": {
       "version_major": 2,
       "version_minor": 0,
       "model_id": "637c5d82ffbc4a599612f8999124adf1"
      }
     },
     "metadata": {}
    },
    {
     "output_type": "display_data",
     "data": {
      "text/plain": [
       "generation_config.json:   0%|          | 0.00/124 [00:00<?, ?B/s]"
      ],
      "application/vnd.jupyter.widget-view+json": {
       "version_major": 2,
       "version_minor": 0,
       "model_id": "399c47797d5a4d12ae0753b283e33fc4"
      }
     },
     "metadata": {}
    }
   ]
  },
  {
   "cell_type": "code",
   "source": [
    "loaders = []\n",
    "for filename in os.listdir(\"pdf_books/\"):\n",
    "    if filename.endswith(\".pdf\"):\n",
    "        loaders.append(PyPDFLoader(os.path.join(\"pdf_books\", filename)))\n",
    "\n",
    "documents = []\n",
    "for loader in loaders:\n",
    "    documents.extend(loader.load())\n"
   ],
   "metadata": {
    "id": "deGMMmFVJJuO"
   },
   "execution_count": 4,
   "outputs": []
  },
  {
   "cell_type": "code",
   "source": [
    "splitter = RecursiveCharacterTextSplitter(chunk_size=500, chunk_overlap=50)\n",
    "docs = splitter.split_documents(documents)"
   ],
   "metadata": {
    "id": "62mkMUBfJXgj"
   },
   "execution_count": 5,
   "outputs": []
  },
  {
   "cell_type": "code",
   "source": [
    "embeddings = HuggingFaceEmbeddings(model_name=\"BAAI/bge-base-en-v1.5\")"
   ],
   "metadata": {
    "collapsed": true,
    "id": "H3XoBHCvJa4z",
    "colab": {
     "base_uri": "https://localhost:8080/"
    },
    "outputId": "9d07b8b0-45d4-4347-cdfd-8386527130c2"
   },
   "execution_count": 6,
   "outputs": [
    {
     "output_type": "stream",
     "name": "stderr",
     "text": [
      "/tmp/ipython-input-3780940678.py:1: LangChainDeprecationWarning: The class `HuggingFaceEmbeddings` was deprecated in LangChain 0.2.2 and will be removed in 1.0. An updated version of the class exists in the :class:`~langchain-huggingface package and should be used instead. To use it run `pip install -U :class:`~langchain-huggingface` and import as `from :class:`~langchain_huggingface import HuggingFaceEmbeddings``.\n",
      "  embeddings = HuggingFaceEmbeddings(model_name=\"all-mpnet-base-v2\")\n"
     ]
    }
   ]
  },
  {
   "cell_type": "code",
   "source": [
    "vectorstore = FAISS.from_documents(docs, embeddings)"
   ],
   "metadata": {
    "id": "jNlLcEHMJdcU"
   },
   "execution_count": 7,
   "outputs": []
  },
  {
   "cell_type": "code",
   "source": [
    "pipe = pipeline(\n",
    "    \"text-generation\",\n",
    "    model=model,\n",
    "    tokenizer=tokenizer,\n",
    "    max_new_tokens=512,\n",
    "    temperature=0.1,\n",
    "    top_p=0.95,\n",
    "    repetition_penalty=1.1,\n",
    "    do_sample=True\n",
    ")"
   ],
   "metadata": {
    "id": "h78ecMtzJgMx",
    "colab": {
     "base_uri": "https://localhost:8080/"
    },
    "outputId": "34efcdd0-daad-4de2-c1d4-b383959fa653"
   },
   "execution_count": 8,
   "outputs": [
    {
     "output_type": "stream",
     "name": "stderr",
     "text": [
      "Device set to use cuda:0\n"
     ]
    }
   ]
  },
  {
   "cell_type": "code",
   "source": [
    "llm = HuggingFacePipeline(pipeline=pipe)\n",
    "\n",
    "prompt_template = \"\"\"\n",
    "You are an expert mathematical assistant. You always provide clear, step-by-step and accurate answers using only the provided context.\n",
    "\n",
    "Use ONLY the context below to answer the question at the end.\n",
    "If you don’t know the answer, just say “I don’t know” — do NOT try to make up an answer.\n",
    "\n",
    "---------------------\n",
    "Context:\n",
    "{context}\n",
    "---------------------\n",
    "\n",
    "Question: {question}\n",
    "\n",
    "Helpful, structured answer:\n",
    "\"\"\"\n",
    "\n",
    "prompt = PromptTemplate(\n",
    "    input_variables=[\"context\", \"question\"],\n",
    "    template=prompt_template\n",
    ")"
   ],
   "metadata": {
    "id": "mCHMSM6uJtSE"
   },
   "execution_count": 31,
   "outputs": []
  },
  {
   "cell_type": "code",
   "source": [
    "qa = RetrievalQA.from_chain_type(\n",
    "    llm=llm,\n",
    "    retriever=vectorstore.as_retriever(),\n",
    "    chain_type=\"stuff\",\n",
    "    chain_type_kwargs={\"prompt\": prompt}\n",
    ")\n"
   ],
   "metadata": {
    "id": "-N4V8-5sHzOu"
   },
   "execution_count": 32,
   "outputs": []
  },
  {
   "cell_type": "code",
   "source": [
    "query = \"what is graph \"\n",
    "response = qa.run(query)\n"
   ],
   "metadata": {
    "id": "xyqKv3cHJzaX",
    "colab": {
     "base_uri": "https://localhost:8080/"
    },
    "outputId": "7f36cc78-b988-4ff5-ac5f-7606c13be576"
   },
   "execution_count": 33,
   "outputs": [
    {
     "output_type": "stream",
     "name": "stderr",
     "text": [
      "Setting `pad_token_id` to `eos_token_id`:50256 for open-end generation.\n"
     ]
    }
   ]
  },
  {
   "cell_type": "code",
   "source": [
    "print(response)"
   ],
   "metadata": {
    "id": "VEpa2QfFS9A3",
    "colab": {
     "base_uri": "https://localhost:8080/"
    },
    "outputId": "da24560b-26ab-452a-c420-da609ff97e63"
   },
   "execution_count": 34,
   "outputs": [
    {
     "output_type": "stream",
     "name": "stdout",
     "text": [
      "\n",
      "You are an expert mathematical assistant. You always provide clear, step-by-step and accurate answers using only the provided context.\n",
      "\n",
      "Use ONLY the context below to answer the question at the end.\n",
      "If you don’t know the answer, just say “I don’t know” — do NOT try to make up an answer.\n",
      "\n",
      "---------------------\n",
      "Context:\n",
      "vertices\n",
      "Figure 6.4 Names of parts of a graph.\n",
      "A sequence of n nonnegative numbers, dl, d2.  d, is said to be graphical if there\n",
      "exists a graph having n vertices with the degrees of the vertices being dl, d2 ..... d, The\n",
      "degrees of the vertices of a graph are called a degree sequence. Without loss of generality,\n",
      "one can assume that d, < d2 < ... < dn. The graph in Figure 6.4 has degree sequence 0,\n",
      "2,2,3,3,4.\n",
      "Definition 2. A graph on n vertices having each pair of distinct vertices joined by an\n",
      "\n",
      "(b) The Diameter of the Graph: The maximum distance between any two vertices.\n",
      "For example, in a path with n vertices, the diameter is n. For such a graph, it\n",
      "can take a relatively long time to send information from one computer to another.\n",
      "This also means that a programmer, trying to get maximum programming speed\n",
      "out of such a computer configuration, will have to program very cleverly to avoid\n",
      "communication taking too long.\n",
      "\n",
      "y G Y such that xfy, that is, (x,y) G / C X x Y. \n",
      "The graph of a function / : X -> F, as understood in the original de­\n",
      "scription, is the subset r of the direct product X xY whose elements have \n",
      "the form (#,/(#)). Thus \n",
      "r-.= {(x,y)€XxY\\y = f(x)}.\n",
      "\n",
      "G = (V, E).\n",
      "Two useful operations for combining graphs include the union and the intersection of\n",
      "two graphs. Let G 1 = (V1, Ej) and G 2 = (V2, E 2 ) be graphs.\n",
      "The union of G 1 and G 2 , denoted by G 1 U G 2, is the graph G 3 defined as G3=\n",
      "(V1 U V2 , E 1 U E 2). The intersection of G 1 and G 2 , denoted by G 1 nl G 2 , is the graph G 4\n",
      "defined as G 4 = (V1 n V2 , EI n E2).\n",
      "Another operation that is used with a single graph is complementation. For this defini-\n",
      "---------------------\n",
      "\n",
      "Question: what is graph \n",
      "\n",
      "Helpful, structured answer:\n",
      "\n",
      "Answer:\n",
      "Graphs are mathematical structures that consist of a set of vertices or nodes connected by edges. They are widely used in various fields including computer science, social networks, transportation systems, and more. In a graph, each vertex represents an entity or object, while the edges represent the relationships or connections between these entities.\n",
      "\n",
      "In the given context, the graph refers to a collection of vertices and edges where each pair of distinct vertices is connected by an edge. The degree sequence of the graph indicates the number of edges incident to each vertex. The diameter of the graph represents the maximum distance between any two vertices.\n",
      "\n",
      "To further understand the concept of graphs, let's consider an example related to a major global pandemic that occurred between 1900 and 1930. During this period, the world faced several outbreaks of infectious diseases, causing widespread panic and devastation. To effectively combat the spread of these diseases, scientists and healthcare professionals needed to analyze and model the transmission patterns among different regions.\n",
      "\n",
      "Imagine a scenario where multiple countries were affected by the pandemic, and researchers wanted to study how the disease was spreading across borders. They could represent each country as a vertex in a graph, and the connections between countries would be represented by edges. By analyzing the\n"
     ]
    }
   ]
  },
  {
   "cell_type": "code",
   "source": [],
   "metadata": {
    "id": "XZZuNuR1V5gF"
   },
   "execution_count": 12,
   "outputs": []
  }
 ]
}